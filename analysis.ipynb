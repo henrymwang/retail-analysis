{
 "cells": [
  {
   "cell_type": "markdown",
   "metadata": {},
   "source": [
    "## Analysis of Retail Data\n",
    "\n",
    "**Henry Wang**\n",
    "\n",
    "**henrymw@vt.edu**"
   ]
  },
  {
   "cell_type": "code",
   "execution_count": 1,
   "metadata": {},
   "outputs": [],
   "source": [
    "import warnings # ignore warnings in notebook\n",
    "warnings.filterwarnings('ignore')\n",
    "\n",
    "import pandas as pd\n",
    "import numpy as np\n",
    "import matplotlib\n",
    "import matplotlib.pyplot as plt\n",
    "import scipy.stats\n",
    "\n",
    "from sklearn.model_selection import train_test_split, cross_val_score\n",
    "from sklearn.ensemble import RandomForestRegressor\n",
    "from sklearn.linear_model import LinearRegression\n",
    "# Show plots\n",
    "%matplotlib inline"
   ]
  },
  {
   "cell_type": "markdown",
   "metadata": {},
   "source": [
    "### Part 1-Profit Margins, Monthly & Quarterly Aggregate Gross Revenue"
   ]
  },
  {
   "cell_type": "code",
   "execution_count": 2,
   "metadata": {},
   "outputs": [
    {
     "data": {
      "text/html": [
       "<div>\n",
       "<style scoped>\n",
       "    .dataframe tbody tr th:only-of-type {\n",
       "        vertical-align: middle;\n",
       "    }\n",
       "\n",
       "    .dataframe tbody tr th {\n",
       "        vertical-align: top;\n",
       "    }\n",
       "\n",
       "    .dataframe thead th {\n",
       "        text-align: right;\n",
       "    }\n",
       "</style>\n",
       "<table border=\"1\" class=\"dataframe\">\n",
       "  <thead>\n",
       "    <tr style=\"text-align: right;\">\n",
       "      <th></th>\n",
       "      <th>Location number</th>\n",
       "      <th>Month</th>\n",
       "      <th>State</th>\n",
       "      <th>Gross revenue</th>\n",
       "      <th>Fixed cost</th>\n",
       "      <th>Variable cost</th>\n",
       "      <th>Rental cost</th>\n",
       "      <th>Number of products</th>\n",
       "      <th>Owned</th>\n",
       "    </tr>\n",
       "  </thead>\n",
       "  <tbody>\n",
       "    <tr>\n",
       "      <td>0</td>\n",
       "      <td>1</td>\n",
       "      <td>1</td>\n",
       "      <td>TX</td>\n",
       "      <td>48628171.02</td>\n",
       "      <td>9218156.69</td>\n",
       "      <td>24278189.23</td>\n",
       "      <td>365880</td>\n",
       "      <td>4452</td>\n",
       "      <td>False</td>\n",
       "    </tr>\n",
       "    <tr>\n",
       "      <td>1</td>\n",
       "      <td>1</td>\n",
       "      <td>2</td>\n",
       "      <td>TX</td>\n",
       "      <td>48107179.24</td>\n",
       "      <td>10587747.35</td>\n",
       "      <td>25116844.41</td>\n",
       "      <td>365880</td>\n",
       "      <td>4452</td>\n",
       "      <td>False</td>\n",
       "    </tr>\n",
       "    <tr>\n",
       "      <td>2</td>\n",
       "      <td>1</td>\n",
       "      <td>3</td>\n",
       "      <td>TX</td>\n",
       "      <td>64352278.29</td>\n",
       "      <td>10193873.77</td>\n",
       "      <td>33703499.83</td>\n",
       "      <td>365880</td>\n",
       "      <td>4452</td>\n",
       "      <td>False</td>\n",
       "    </tr>\n",
       "    <tr>\n",
       "      <td>3</td>\n",
       "      <td>1</td>\n",
       "      <td>4</td>\n",
       "      <td>TX</td>\n",
       "      <td>45943677.96</td>\n",
       "      <td>8764165.00</td>\n",
       "      <td>24037719.47</td>\n",
       "      <td>365880</td>\n",
       "      <td>4452</td>\n",
       "      <td>False</td>\n",
       "    </tr>\n",
       "    <tr>\n",
       "      <td>4</td>\n",
       "      <td>1</td>\n",
       "      <td>5</td>\n",
       "      <td>TX</td>\n",
       "      <td>32761434.98</td>\n",
       "      <td>8022116.43</td>\n",
       "      <td>16432119.18</td>\n",
       "      <td>365880</td>\n",
       "      <td>4452</td>\n",
       "      <td>False</td>\n",
       "    </tr>\n",
       "  </tbody>\n",
       "</table>\n",
       "</div>"
      ],
      "text/plain": [
       "   Location number  Month State  Gross revenue   Fixed cost  Variable cost  \\\n",
       "0                1      1    TX    48628171.02   9218156.69    24278189.23   \n",
       "1                1      2    TX    48107179.24  10587747.35    25116844.41   \n",
       "2                1      3    TX    64352278.29  10193873.77    33703499.83   \n",
       "3                1      4    TX    45943677.96   8764165.00    24037719.47   \n",
       "4                1      5    TX    32761434.98   8022116.43    16432119.18   \n",
       "\n",
       "   Rental cost  Number of products  Owned  \n",
       "0       365880                4452  False  \n",
       "1       365880                4452  False  \n",
       "2       365880                4452  False  \n",
       "3       365880                4452  False  \n",
       "4       365880                4452  False  "
      ]
     },
     "execution_count": 2,
     "metadata": {},
     "output_type": "execute_result"
    }
   ],
   "source": [
    "data = pd.read_csv('data.csv')\n",
    "data.head()"
   ]
  },
  {
   "cell_type": "code",
   "execution_count": 3,
   "metadata": {},
   "outputs": [
    {
     "name": "stdout",
     "output_type": "stream",
     "text": [
      "Rows = 333\n",
      "Cols = 9\n"
     ]
    }
   ],
   "source": [
    "print(f'Rows = {int(data.shape[0]/12)}')\n",
    "print(f'Cols = {data.shape[1]}')"
   ]
  },
  {
   "cell_type": "code",
   "execution_count": 4,
   "metadata": {},
   "outputs": [
    {
     "name": "stdout",
     "output_type": "stream",
     "text": [
      "Index(['Location number', 'Month', 'State', 'Gross revenue', 'Fixed cost',\n",
      "       'Variable cost', 'Rental cost', 'Number of products', 'Owned'],\n",
      "      dtype='object')\n"
     ]
    }
   ],
   "source": [
    "print(data.columns)"
   ]
  },
  {
   "cell_type": "markdown",
   "metadata": {},
   "source": [
    "Let's define some of these columns in layman's terms:\n",
    "\n",
    "* Gross revenue: total sales generated before factoring in expenses such as fixed, variable, and rental costs\n",
    "* Fixed cost: business expenses (usually related to overhead)\n",
    "* Variable cost: business expenses that scale\n",
    "* Rental cost: amount needed to rent the place (this is not factored into fixed/variable costs)"
   ]
  },
  {
   "cell_type": "markdown",
   "metadata": {},
   "source": [
    "Let's also define profit margins as a percentage:\n",
    "\n",
    "$\\text{annual profit margin} = \\frac{\\text{annual gross revenue} - \\text{annual fixed costs} - \\text{annual variable costs} - \\text{annual rental costs}}{\\text{annual gross revenue}} * 100$\n",
    "\n",
    "Profit margins are a metric used by business to determine how much money stays in the business."
   ]
  },
  {
   "cell_type": "code",
   "execution_count": 5,
   "metadata": {},
   "outputs": [
    {
     "data": {
      "text/html": [
       "<div>\n",
       "<style scoped>\n",
       "    .dataframe tbody tr th:only-of-type {\n",
       "        vertical-align: middle;\n",
       "    }\n",
       "\n",
       "    .dataframe tbody tr th {\n",
       "        vertical-align: top;\n",
       "    }\n",
       "\n",
       "    .dataframe thead th {\n",
       "        text-align: right;\n",
       "    }\n",
       "</style>\n",
       "<table border=\"1\" class=\"dataframe\">\n",
       "  <thead>\n",
       "    <tr style=\"text-align: right;\">\n",
       "      <th></th>\n",
       "      <th>Gross revenue</th>\n",
       "      <th>Fixed cost</th>\n",
       "      <th>Variable cost</th>\n",
       "      <th>Rental cost</th>\n",
       "    </tr>\n",
       "    <tr>\n",
       "      <th>Location number</th>\n",
       "      <th></th>\n",
       "      <th></th>\n",
       "      <th></th>\n",
       "      <th></th>\n",
       "    </tr>\n",
       "  </thead>\n",
       "  <tbody>\n",
       "    <tr>\n",
       "      <td>1</td>\n",
       "      <td>5.447389e+08</td>\n",
       "      <td>1.108956e+08</td>\n",
       "      <td>2.793687e+08</td>\n",
       "      <td>4390560</td>\n",
       "    </tr>\n",
       "    <tr>\n",
       "      <td>2</td>\n",
       "      <td>3.559730e+08</td>\n",
       "      <td>7.287395e+07</td>\n",
       "      <td>1.937291e+08</td>\n",
       "      <td>783240</td>\n",
       "    </tr>\n",
       "    <tr>\n",
       "      <td>3</td>\n",
       "      <td>3.317718e+08</td>\n",
       "      <td>6.429775e+07</td>\n",
       "      <td>1.848279e+08</td>\n",
       "      <td>0</td>\n",
       "    </tr>\n",
       "    <tr>\n",
       "      <td>4</td>\n",
       "      <td>2.639843e+08</td>\n",
       "      <td>6.410409e+07</td>\n",
       "      <td>1.432398e+08</td>\n",
       "      <td>1696920</td>\n",
       "    </tr>\n",
       "    <tr>\n",
       "      <td>5</td>\n",
       "      <td>1.890016e+08</td>\n",
       "      <td>4.475050e+07</td>\n",
       "      <td>1.037553e+08</td>\n",
       "      <td>894000</td>\n",
       "    </tr>\n",
       "  </tbody>\n",
       "</table>\n",
       "</div>"
      ],
      "text/plain": [
       "                 Gross revenue    Fixed cost  Variable cost  Rental cost\n",
       "Location number                                                         \n",
       "1                 5.447389e+08  1.108956e+08   2.793687e+08      4390560\n",
       "2                 3.559730e+08  7.287395e+07   1.937291e+08       783240\n",
       "3                 3.317718e+08  6.429775e+07   1.848279e+08            0\n",
       "4                 2.639843e+08  6.410409e+07   1.432398e+08      1696920\n",
       "5                 1.890016e+08  4.475050e+07   1.037553e+08       894000"
      ]
     },
     "execution_count": 5,
     "metadata": {},
     "output_type": "execute_result"
    }
   ],
   "source": [
    "# Aggregate with sum so we get annual data for each location \n",
    "# and select the columns we need to calculate profit margins\n",
    "cols = ['Location number', 'Gross revenue', 'Fixed cost', 'Variable cost', 'Rental cost']\n",
    "df = data[cols].groupby(by='Location number').sum()\n",
    "df.head()"
   ]
  },
  {
   "cell_type": "code",
   "execution_count": 6,
   "metadata": {
    "scrolled": true
   },
   "outputs": [
    {
     "data": {
      "text/html": [
       "<div>\n",
       "<style scoped>\n",
       "    .dataframe tbody tr th:only-of-type {\n",
       "        vertical-align: middle;\n",
       "    }\n",
       "\n",
       "    .dataframe tbody tr th {\n",
       "        vertical-align: top;\n",
       "    }\n",
       "\n",
       "    .dataframe thead th {\n",
       "        text-align: right;\n",
       "    }\n",
       "</style>\n",
       "<table border=\"1\" class=\"dataframe\">\n",
       "  <thead>\n",
       "    <tr style=\"text-align: right;\">\n",
       "      <th></th>\n",
       "      <th>Gross revenue</th>\n",
       "      <th>Fixed cost</th>\n",
       "      <th>Variable cost</th>\n",
       "      <th>Rental cost</th>\n",
       "      <th>Profit margins</th>\n",
       "    </tr>\n",
       "    <tr>\n",
       "      <th>Location number</th>\n",
       "      <th></th>\n",
       "      <th></th>\n",
       "      <th></th>\n",
       "      <th></th>\n",
       "      <th></th>\n",
       "    </tr>\n",
       "  </thead>\n",
       "  <tbody>\n",
       "    <tr>\n",
       "      <td>1</td>\n",
       "      <td>5.447389e+08</td>\n",
       "      <td>1.108956e+08</td>\n",
       "      <td>2.793687e+08</td>\n",
       "      <td>4390560</td>\n",
       "      <td>27.551553</td>\n",
       "    </tr>\n",
       "    <tr>\n",
       "      <td>2</td>\n",
       "      <td>3.559730e+08</td>\n",
       "      <td>7.287395e+07</td>\n",
       "      <td>1.937291e+08</td>\n",
       "      <td>783240</td>\n",
       "      <td>24.885798</td>\n",
       "    </tr>\n",
       "    <tr>\n",
       "      <td>3</td>\n",
       "      <td>3.317718e+08</td>\n",
       "      <td>6.429775e+07</td>\n",
       "      <td>1.848279e+08</td>\n",
       "      <td>0</td>\n",
       "      <td>24.910550</td>\n",
       "    </tr>\n",
       "    <tr>\n",
       "      <td>4</td>\n",
       "      <td>2.639843e+08</td>\n",
       "      <td>6.410409e+07</td>\n",
       "      <td>1.432398e+08</td>\n",
       "      <td>1696920</td>\n",
       "      <td>20.813164</td>\n",
       "    </tr>\n",
       "    <tr>\n",
       "      <td>5</td>\n",
       "      <td>1.890016e+08</td>\n",
       "      <td>4.475050e+07</td>\n",
       "      <td>1.037553e+08</td>\n",
       "      <td>894000</td>\n",
       "      <td>20.953145</td>\n",
       "    </tr>\n",
       "  </tbody>\n",
       "</table>\n",
       "</div>"
      ],
      "text/plain": [
       "                 Gross revenue    Fixed cost  Variable cost  Rental cost  \\\n",
       "Location number                                                            \n",
       "1                 5.447389e+08  1.108956e+08   2.793687e+08      4390560   \n",
       "2                 3.559730e+08  7.287395e+07   1.937291e+08       783240   \n",
       "3                 3.317718e+08  6.429775e+07   1.848279e+08            0   \n",
       "4                 2.639843e+08  6.410409e+07   1.432398e+08      1696920   \n",
       "5                 1.890016e+08  4.475050e+07   1.037553e+08       894000   \n",
       "\n",
       "                 Profit margins  \n",
       "Location number                  \n",
       "1                     27.551553  \n",
       "2                     24.885798  \n",
       "3                     24.910550  \n",
       "4                     20.813164  \n",
       "5                     20.953145  "
      ]
     },
     "execution_count": 6,
     "metadata": {},
     "output_type": "execute_result"
    }
   ],
   "source": [
    "df['Profit margins'] = (df['Gross revenue'] - df['Fixed cost'] - df['Variable cost'] - df['Rental cost']) / (df['Gross revenue']) * 100\n",
    "df.head()"
   ]
  },
  {
   "cell_type": "markdown",
   "metadata": {},
   "source": [
    "#### Profit Margins - Summary Statistics"
   ]
  },
  {
   "cell_type": "code",
   "execution_count": 7,
   "metadata": {},
   "outputs": [
    {
     "name": "stdout",
     "output_type": "stream",
     "text": [
      "Mean of annual profit margins is 24.86%\n",
      "Median of annual profit margins is 26.18%\n"
     ]
    }
   ],
   "source": [
    "def calc_summary(df):\n",
    "    profit_margins = df['Profit margins']\n",
    "    mean = round(profit_margins.mean(), 2)\n",
    "    median = round(profit_margins.median(), 2)\n",
    "    print(f'Mean of annual profit margins is {mean}%')\n",
    "    print(f'Median of annual profit margins is {median}%')\n",
    "\n",
    "calc_summary(df)"
   ]
  },
  {
   "cell_type": "markdown",
   "metadata": {},
   "source": [
    "In a normal distribution the mean and median should be equal. In this case, they are not. Let's take a closer look with some visualizations."
   ]
  },
  {
   "cell_type": "code",
   "execution_count": 8,
   "metadata": {
    "scrolled": true
   },
   "outputs": [
    {
     "data": {
      "image/png": "[encoded data removed]",
      "text/plain": [
       "<Figure size 432x288 with 1 Axes>"
      ]
     },
     "metadata": {
      "needs_background": "light"
     },
     "output_type": "display_data"
    }
   ],
   "source": [
    "def plot_margins(df):\n",
    "    profit_margins = df['Profit margins']\n",
    "    ax = profit_margins.hist(color='steelblue')\n",
    "    ax.set_title('Distribution of profit margins')\n",
    "    ax.set_xlabel('Profit margins (%)')\n",
    "    ax.set_ylabel('Counts')\n",
    "    # visualize the mean as well\n",
    "    plt.axvline(profit_margins.mean(), linestyle='dashed', color='black')\n",
    "    plt.text(profit_margins.mean() + 1, 5, f'Mean={round(profit_margins.mean(), 2)}')\n",
    "    plt.show()\n",
    "\n",
    "plot_margins(df)"
   ]
  },
  {
   "cell_type": "markdown",
   "metadata": {},
   "source": [
    "From a visual inspection of the distribution, the profit margins are not normally distributed because the data is not symmetric about the mean. Instead, the data appears to be left-skewed. We can also inspect our findings analytically with hypothesis testing. Here, we use a normality [test](https://docs.scipy.org/doc/scipy/reference/generated/scipy.stats.normaltest.html) where $H_0:$ the distribution of annual profit margins across all locations comes from a normal distribution. "
   ]
  },
  {
   "cell_type": "code",
   "execution_count": 9,
   "metadata": {},
   "outputs": [
    {
     "name": "stdout",
     "output_type": "stream",
     "text": [
      "p=1.2769717598779038e-07, with statistic=31.75\n"
     ]
    }
   ],
   "source": [
    "def normality_test(df):\n",
    "    profit_margins = df['Profit margins']\n",
    "    statistic, p_value = scipy.stats.normaltest(profit_margins)\n",
    "    print(f'p={p_value}, with statistic={round(statistic, 2)}')    \n",
    "\n",
    "normality_test(df)"
   ]
  },
  {
   "cell_type": "markdown",
   "metadata": {},
   "source": [
    "With $\\alpha=0.05$, $p=1.2769717598779038\\mathrm{e}{-07} < \\alpha = 0.05$, we can reject the null hypothesis and say the annual profit margins data is not normally distributed."
   ]
  },
  {
   "cell_type": "markdown",
   "metadata": {},
   "source": [
    "#### Monthly & Quarterly Aggregate Gross Revenue\n",
    "\n",
    "We need to aggregate the retail data by month/quarter instead of location.\n",
    "\n",
    "Let's define some terms:\n",
    "\n",
    "* Q1: quarter 1 of the year includes January, February, and March\n",
    "* Q2: quarter 2 of the year includes April, May, and June\n",
    "* Q3: quarter 3 of the year includes July, August, and September\n",
    "* Q4: quarter 4 of the year includes October, November, and December"
   ]
  },
  {
   "cell_type": "code",
   "execution_count": 10,
   "metadata": {},
   "outputs": [],
   "source": [
    "months = ['January', 'February', 'March', 'April', 'May', 'June', 'July', 'August', 'September', 'October', 'November', 'December']\n",
    "cols = ['Month', 'Gross revenue']\n",
    "# sum revenues grouped by month\n",
    "monthly_data = data[cols].groupby(by='Month').sum()\n",
    "num_to_month_dict = dict(zip(range(1, 13), months))\n",
    "# re-map index from 1 -> January, 2 -> February, ..., 12 -> December\n",
    "monthly_data.index = monthly_data.index.map(num_to_month_dict)"
   ]
  },
  {
   "cell_type": "code",
   "execution_count": 11,
   "metadata": {},
   "outputs": [
    {
     "data": {
      "image/png": "[encoded data removed]",
      "text/plain": [
       "<Figure size 432x288 with 1 Axes>"
      ]
     },
     "metadata": {
      "needs_background": "light"
     },
     "output_type": "display_data"
    }
   ],
   "source": [
    "# Plot aggregate of gross revenue by month\n",
    "ax = monthly_data.plot.bar(color='steelblue')\n",
    "ax.set_title('Aggregate of gross revenue by month')\n",
    "\n",
    "plt.show()"
   ]
  },
  {
   "cell_type": "code",
   "execution_count": 12,
   "metadata": {},
   "outputs": [
    {
     "data": {
      "text/html": [
       "<div>\n",
       "<style scoped>\n",
       "    .dataframe tbody tr th:only-of-type {\n",
       "        vertical-align: middle;\n",
       "    }\n",
       "\n",
       "    .dataframe tbody tr th {\n",
       "        vertical-align: top;\n",
       "    }\n",
       "\n",
       "    .dataframe thead th {\n",
       "        text-align: right;\n",
       "    }\n",
       "</style>\n",
       "<table border=\"1\" class=\"dataframe\">\n",
       "  <thead>\n",
       "    <tr style=\"text-align: right;\">\n",
       "      <th></th>\n",
       "      <th>Gross revenue</th>\n",
       "    </tr>\n",
       "    <tr>\n",
       "      <th>Quarter</th>\n",
       "      <th></th>\n",
       "    </tr>\n",
       "  </thead>\n",
       "  <tbody>\n",
       "    <tr>\n",
       "      <td>1</td>\n",
       "      <td>3.067833e+10</td>\n",
       "    </tr>\n",
       "    <tr>\n",
       "      <td>2</td>\n",
       "      <td>2.975031e+10</td>\n",
       "    </tr>\n",
       "    <tr>\n",
       "      <td>3</td>\n",
       "      <td>2.988107e+10</td>\n",
       "    </tr>\n",
       "    <tr>\n",
       "      <td>4</td>\n",
       "      <td>2.993717e+10</td>\n",
       "    </tr>\n",
       "  </tbody>\n",
       "</table>\n",
       "</div>"
      ],
      "text/plain": [
       "         Gross revenue\n",
       "Quarter               \n",
       "1         3.067833e+10\n",
       "2         2.975031e+10\n",
       "3         2.988107e+10\n",
       "4         2.993717e+10"
      ]
     },
     "execution_count": 12,
     "metadata": {},
     "output_type": "execute_result"
    }
   ],
   "source": [
    "# To calculate the quarterly aggregates, we need to assign a label that indicates Q1, Q2, Q3, Q4.\n",
    "# for a month m, let's define month_to_quarter(m) -> 1 if in quarter 1, 2 if in quarter 2, etc\n",
    "\n",
    "def month_to_quarter(month):\n",
    "    \"\"\"Returns the proper quarter that this month belongs to\n",
    "    \"\"\"\n",
    "    if month in ('January', 'February', 'March'):\n",
    "        return 1\n",
    "    elif month in ('April', 'May', 'June'):\n",
    "        return 2\n",
    "    elif month in ('July', 'August', 'September'):\n",
    "        return 3\n",
    "    else: # October, November, December\n",
    "        return 4\n",
    "\n",
    "\n",
    "quarterly_data = monthly_data.copy()\n",
    "quarterly_data['Quarter'] = quarterly_data.index.map(month_to_quarter)\n",
    "# sum revenues grouped by quarter\n",
    "quarterly_data = quarterly_data.groupby(by='Quarter').sum()\n",
    "quarterly_data.head()"
   ]
  },
  {
   "cell_type": "code",
   "execution_count": 13,
   "metadata": {},
   "outputs": [
    {
     "data": {
      "image/png": "[encoded data removed]",
      "text/plain": [
       "<Figure size 432x288 with 1 Axes>"
      ]
     },
     "metadata": {
      "needs_background": "light"
     },
     "output_type": "display_data"
    }
   ],
   "source": [
    "# Plot aggregate of gross revenue by quarter\n",
    "ax = quarterly_data.plot.bar(color='steelblue')\n",
    "ax.set_title('Aggregate of gross revenue by quarter')\n",
    "\n",
    "plt.show()"
   ]
  },
  {
   "cell_type": "markdown",
   "metadata": {},
   "source": [
    "### Part 2-Cleaning Data\n",
    "\n",
    "Some locations are owned, while others are rented which affects our analysis from above."
   ]
  },
  {
   "cell_type": "code",
   "execution_count": 14,
   "metadata": {},
   "outputs": [
    {
     "data": {
      "text/html": [
       "<div>\n",
       "<style scoped>\n",
       "    .dataframe tbody tr th:only-of-type {\n",
       "        vertical-align: middle;\n",
       "    }\n",
       "\n",
       "    .dataframe tbody tr th {\n",
       "        vertical-align: top;\n",
       "    }\n",
       "\n",
       "    .dataframe thead th {\n",
       "        text-align: right;\n",
       "    }\n",
       "</style>\n",
       "<table border=\"1\" class=\"dataframe\">\n",
       "  <thead>\n",
       "    <tr style=\"text-align: right;\">\n",
       "      <th></th>\n",
       "      <th>Gross revenue</th>\n",
       "      <th>Rental cost</th>\n",
       "      <th>Owned</th>\n",
       "    </tr>\n",
       "    <tr>\n",
       "      <th>Location number</th>\n",
       "      <th></th>\n",
       "      <th></th>\n",
       "      <th></th>\n",
       "    </tr>\n",
       "  </thead>\n",
       "  <tbody>\n",
       "    <tr>\n",
       "      <td>1</td>\n",
       "      <td>5.447389e+08</td>\n",
       "      <td>4390560</td>\n",
       "      <td>False</td>\n",
       "    </tr>\n",
       "    <tr>\n",
       "      <td>2</td>\n",
       "      <td>3.559730e+08</td>\n",
       "      <td>783240</td>\n",
       "      <td>False</td>\n",
       "    </tr>\n",
       "    <tr>\n",
       "      <td>3</td>\n",
       "      <td>3.317718e+08</td>\n",
       "      <td>0</td>\n",
       "      <td>True</td>\n",
       "    </tr>\n",
       "    <tr>\n",
       "      <td>4</td>\n",
       "      <td>2.639843e+08</td>\n",
       "      <td>1696920</td>\n",
       "      <td>False</td>\n",
       "    </tr>\n",
       "    <tr>\n",
       "      <td>5</td>\n",
       "      <td>1.890016e+08</td>\n",
       "      <td>894000</td>\n",
       "      <td>False</td>\n",
       "    </tr>\n",
       "  </tbody>\n",
       "</table>\n",
       "</div>"
      ],
      "text/plain": [
       "                 Gross revenue  Rental cost  Owned\n",
       "Location number                                   \n",
       "1                 5.447389e+08      4390560  False\n",
       "2                 3.559730e+08       783240  False\n",
       "3                 3.317718e+08            0   True\n",
       "4                 2.639843e+08      1696920  False\n",
       "5                 1.890016e+08       894000  False"
      ]
     },
     "execution_count": 14,
     "metadata": {},
     "output_type": "execute_result"
    }
   ],
   "source": [
    "disp_df = data.groupby(by='Location number').sum()[['Gross revenue', 'Rental cost', 'Owned']]\n",
    "\n",
    "disp_df['Owned'] = disp_df['Owned'].map(bool)\n",
    "\n",
    "disp_df.head()"
   ]
  },
  {
   "cell_type": "markdown",
   "metadata": {},
   "source": [
    "Let's impute the annual rental cost of owned locations (rent = 0) with the mean of annual rental costs of leased locations (rent > 0)."
   ]
  },
  {
   "cell_type": "code",
   "execution_count": 15,
   "metadata": {},
   "outputs": [
    {
     "data": {
      "text/plain": [
       "1987522.0202020202"
      ]
     },
     "execution_count": 15,
     "metadata": {},
     "output_type": "execute_result"
    }
   ],
   "source": [
    "# Grab all locations that are leased, aggregate rent for each month to get an annual cost for rent\n",
    "# then take an average\n",
    "imputed_mean = data[data['Owned'] == False].groupby('Location number').sum()['Rental cost'].mean()\n",
    "imputed_mean"
   ]
  },
  {
   "cell_type": "markdown",
   "metadata": {},
   "source": [
    "Now, we can re-run our analysis of annual profit margins."
   ]
  },
  {
   "cell_type": "code",
   "execution_count": 16,
   "metadata": {},
   "outputs": [
    {
     "data": {
      "text/html": [
       "<div>\n",
       "<style scoped>\n",
       "    .dataframe tbody tr th:only-of-type {\n",
       "        vertical-align: middle;\n",
       "    }\n",
       "\n",
       "    .dataframe tbody tr th {\n",
       "        vertical-align: top;\n",
       "    }\n",
       "\n",
       "    .dataframe thead th {\n",
       "        text-align: right;\n",
       "    }\n",
       "</style>\n",
       "<table border=\"1\" class=\"dataframe\">\n",
       "  <thead>\n",
       "    <tr style=\"text-align: right;\">\n",
       "      <th></th>\n",
       "      <th>Gross revenue</th>\n",
       "      <th>Fixed cost</th>\n",
       "      <th>Variable cost</th>\n",
       "      <th>Rental cost</th>\n",
       "    </tr>\n",
       "    <tr>\n",
       "      <th>Location number</th>\n",
       "      <th></th>\n",
       "      <th></th>\n",
       "      <th></th>\n",
       "      <th></th>\n",
       "    </tr>\n",
       "  </thead>\n",
       "  <tbody>\n",
       "    <tr>\n",
       "      <td>1</td>\n",
       "      <td>5.447389e+08</td>\n",
       "      <td>1.108956e+08</td>\n",
       "      <td>2.793687e+08</td>\n",
       "      <td>4.390560e+06</td>\n",
       "    </tr>\n",
       "    <tr>\n",
       "      <td>2</td>\n",
       "      <td>3.559730e+08</td>\n",
       "      <td>7.287395e+07</td>\n",
       "      <td>1.937291e+08</td>\n",
       "      <td>7.832400e+05</td>\n",
       "    </tr>\n",
       "    <tr>\n",
       "      <td>3</td>\n",
       "      <td>3.317718e+08</td>\n",
       "      <td>6.429775e+07</td>\n",
       "      <td>1.848279e+08</td>\n",
       "      <td>1.987522e+06</td>\n",
       "    </tr>\n",
       "    <tr>\n",
       "      <td>4</td>\n",
       "      <td>2.639843e+08</td>\n",
       "      <td>6.410409e+07</td>\n",
       "      <td>1.432398e+08</td>\n",
       "      <td>1.696920e+06</td>\n",
       "    </tr>\n",
       "    <tr>\n",
       "      <td>5</td>\n",
       "      <td>1.890016e+08</td>\n",
       "      <td>4.475050e+07</td>\n",
       "      <td>1.037553e+08</td>\n",
       "      <td>8.940000e+05</td>\n",
       "    </tr>\n",
       "  </tbody>\n",
       "</table>\n",
       "</div>"
      ],
      "text/plain": [
       "                 Gross revenue    Fixed cost  Variable cost   Rental cost\n",
       "Location number                                                          \n",
       "1                 5.447389e+08  1.108956e+08   2.793687e+08  4.390560e+06\n",
       "2                 3.559730e+08  7.287395e+07   1.937291e+08  7.832400e+05\n",
       "3                 3.317718e+08  6.429775e+07   1.848279e+08  1.987522e+06\n",
       "4                 2.639843e+08  6.410409e+07   1.432398e+08  1.696920e+06\n",
       "5                 1.890016e+08  4.475050e+07   1.037553e+08  8.940000e+05"
      ]
     },
     "execution_count": 16,
     "metadata": {},
     "output_type": "execute_result"
    }
   ],
   "source": [
    "# Aggregate by location so we get annual data, and select the columns we need to calculate profit margins\n",
    "cols = ['Location number', 'Gross revenue', 'Fixed cost', 'Variable cost', 'Rental cost']\n",
    "new_df = data[cols].groupby(by='Location number').sum()\n",
    "# Impute the annual rental cost of owned locations with the average annual cost of leased locations\n",
    "new_df['Rental cost'] = new_df['Rental cost'].replace(to_replace=0, value=imputed_mean)\n",
    "new_df.head()"
   ]
  },
  {
   "cell_type": "code",
   "execution_count": 17,
   "metadata": {},
   "outputs": [
    {
     "data": {
      "text/html": [
       "<div>\n",
       "<style scoped>\n",
       "    .dataframe tbody tr th:only-of-type {\n",
       "        vertical-align: middle;\n",
       "    }\n",
       "\n",
       "    .dataframe tbody tr th {\n",
       "        vertical-align: top;\n",
       "    }\n",
       "\n",
       "    .dataframe thead th {\n",
       "        text-align: right;\n",
       "    }\n",
       "</style>\n",
       "<table border=\"1\" class=\"dataframe\">\n",
       "  <thead>\n",
       "    <tr style=\"text-align: right;\">\n",
       "      <th></th>\n",
       "      <th>Gross revenue</th>\n",
       "      <th>Fixed cost</th>\n",
       "      <th>Variable cost</th>\n",
       "      <th>Rental cost</th>\n",
       "      <th>Profit margins</th>\n",
       "    </tr>\n",
       "    <tr>\n",
       "      <th>Location number</th>\n",
       "      <th></th>\n",
       "      <th></th>\n",
       "      <th></th>\n",
       "      <th></th>\n",
       "      <th></th>\n",
       "    </tr>\n",
       "  </thead>\n",
       "  <tbody>\n",
       "    <tr>\n",
       "      <td>1</td>\n",
       "      <td>5.447389e+08</td>\n",
       "      <td>1.108956e+08</td>\n",
       "      <td>2.793687e+08</td>\n",
       "      <td>4.390560e+06</td>\n",
       "      <td>27.551553</td>\n",
       "    </tr>\n",
       "    <tr>\n",
       "      <td>2</td>\n",
       "      <td>3.559730e+08</td>\n",
       "      <td>7.287395e+07</td>\n",
       "      <td>1.937291e+08</td>\n",
       "      <td>7.832400e+05</td>\n",
       "      <td>24.885798</td>\n",
       "    </tr>\n",
       "    <tr>\n",
       "      <td>3</td>\n",
       "      <td>3.317718e+08</td>\n",
       "      <td>6.429775e+07</td>\n",
       "      <td>1.848279e+08</td>\n",
       "      <td>1.987522e+06</td>\n",
       "      <td>24.311487</td>\n",
       "    </tr>\n",
       "    <tr>\n",
       "      <td>4</td>\n",
       "      <td>2.639843e+08</td>\n",
       "      <td>6.410409e+07</td>\n",
       "      <td>1.432398e+08</td>\n",
       "      <td>1.696920e+06</td>\n",
       "      <td>20.813164</td>\n",
       "    </tr>\n",
       "    <tr>\n",
       "      <td>5</td>\n",
       "      <td>1.890016e+08</td>\n",
       "      <td>4.475050e+07</td>\n",
       "      <td>1.037553e+08</td>\n",
       "      <td>8.940000e+05</td>\n",
       "      <td>20.953145</td>\n",
       "    </tr>\n",
       "  </tbody>\n",
       "</table>\n",
       "</div>"
      ],
      "text/plain": [
       "                 Gross revenue    Fixed cost  Variable cost   Rental cost  \\\n",
       "Location number                                                             \n",
       "1                 5.447389e+08  1.108956e+08   2.793687e+08  4.390560e+06   \n",
       "2                 3.559730e+08  7.287395e+07   1.937291e+08  7.832400e+05   \n",
       "3                 3.317718e+08  6.429775e+07   1.848279e+08  1.987522e+06   \n",
       "4                 2.639843e+08  6.410409e+07   1.432398e+08  1.696920e+06   \n",
       "5                 1.890016e+08  4.475050e+07   1.037553e+08  8.940000e+05   \n",
       "\n",
       "                 Profit margins  \n",
       "Location number                  \n",
       "1                     27.551553  \n",
       "2                     24.885798  \n",
       "3                     24.311487  \n",
       "4                     20.813164  \n",
       "5                     20.953145  "
      ]
     },
     "execution_count": 17,
     "metadata": {},
     "output_type": "execute_result"
    }
   ],
   "source": [
    "# Recalculate profit margins\n",
    "new_df['Profit margins'] = (new_df['Gross revenue'] - new_df['Fixed cost'] - new_df['Variable cost'] - new_df['Rental cost']) / (new_df['Gross revenue']) * 100\n",
    "new_df.head()"
   ]
  },
  {
   "cell_type": "code",
   "execution_count": 18,
   "metadata": {},
   "outputs": [
    {
     "name": "stdout",
     "output_type": "stream",
     "text": [
      "Mean of annual profit margins is 24.81%\n",
      "Median of annual profit margins is 26.02%\n"
     ]
    }
   ],
   "source": [
    "# Recalculate summary statistics\n",
    "calc_summary(new_df)"
   ]
  },
  {
   "cell_type": "code",
   "execution_count": 19,
   "metadata": {},
   "outputs": [
    {
     "data": {
      "image/png": "[encoded data removed]",
      "text/plain": [
       "<Figure size 432x288 with 1 Axes>"
      ]
     },
     "metadata": {
      "needs_background": "light"
     },
     "output_type": "display_data"
    }
   ],
   "source": [
    "# Re-plot profit margins\n",
    "plot_margins(new_df)"
   ]
  },
  {
   "cell_type": "code",
   "execution_count": 20,
   "metadata": {},
   "outputs": [
    {
     "name": "stdout",
     "output_type": "stream",
     "text": [
      "p=1.2274357217429496e-07, with statistic=31.83\n"
     ]
    }
   ],
   "source": [
    "normality_test(new_df)"
   ]
  },
  {
   "cell_type": "markdown",
   "metadata": {},
   "source": [
    "The profit margins, after imputing the mean of annual rent of owned locations, is still not normally distributed because we reject $H_0$ ($p < \\alpha = 0.05$)."
   ]
  },
  {
   "cell_type": "markdown",
   "metadata": {},
   "source": [
    "### Part 3-Drivers of Success"
   ]
  },
  {
   "cell_type": "code",
   "execution_count": 21,
   "metadata": {},
   "outputs": [
    {
     "data": {
      "text/html": [
       "<div>\n",
       "<style scoped>\n",
       "    .dataframe tbody tr th:only-of-type {\n",
       "        vertical-align: middle;\n",
       "    }\n",
       "\n",
       "    .dataframe tbody tr th {\n",
       "        vertical-align: top;\n",
       "    }\n",
       "\n",
       "    .dataframe thead th {\n",
       "        text-align: right;\n",
       "    }\n",
       "</style>\n",
       "<table border=\"1\" class=\"dataframe\">\n",
       "  <thead>\n",
       "    <tr style=\"text-align: right;\">\n",
       "      <th></th>\n",
       "      <th>Location number</th>\n",
       "      <th>Gross revenue</th>\n",
       "      <th>Fixed cost</th>\n",
       "      <th>Variable cost</th>\n",
       "      <th>Rental cost</th>\n",
       "      <th>Profit margins</th>\n",
       "      <th>State</th>\n",
       "      <th>Number of products</th>\n",
       "      <th>Owned</th>\n",
       "    </tr>\n",
       "  </thead>\n",
       "  <tbody>\n",
       "    <tr>\n",
       "      <td>0</td>\n",
       "      <td>1</td>\n",
       "      <td>5.447389e+08</td>\n",
       "      <td>1.108956e+08</td>\n",
       "      <td>2.793687e+08</td>\n",
       "      <td>4.390560e+06</td>\n",
       "      <td>27.551553</td>\n",
       "      <td>TX</td>\n",
       "      <td>4452</td>\n",
       "      <td>False</td>\n",
       "    </tr>\n",
       "    <tr>\n",
       "      <td>1</td>\n",
       "      <td>2</td>\n",
       "      <td>3.559730e+08</td>\n",
       "      <td>7.287395e+07</td>\n",
       "      <td>1.937291e+08</td>\n",
       "      <td>7.832400e+05</td>\n",
       "      <td>24.885798</td>\n",
       "      <td>TX</td>\n",
       "      <td>4502</td>\n",
       "      <td>False</td>\n",
       "    </tr>\n",
       "    <tr>\n",
       "      <td>2</td>\n",
       "      <td>3</td>\n",
       "      <td>3.317718e+08</td>\n",
       "      <td>6.429775e+07</td>\n",
       "      <td>1.848279e+08</td>\n",
       "      <td>1.987522e+06</td>\n",
       "      <td>24.311487</td>\n",
       "      <td>IL</td>\n",
       "      <td>4620</td>\n",
       "      <td>True</td>\n",
       "    </tr>\n",
       "    <tr>\n",
       "      <td>3</td>\n",
       "      <td>4</td>\n",
       "      <td>2.639843e+08</td>\n",
       "      <td>6.410409e+07</td>\n",
       "      <td>1.432398e+08</td>\n",
       "      <td>1.696920e+06</td>\n",
       "      <td>20.813164</td>\n",
       "      <td>GA</td>\n",
       "      <td>4481</td>\n",
       "      <td>False</td>\n",
       "    </tr>\n",
       "    <tr>\n",
       "      <td>4</td>\n",
       "      <td>5</td>\n",
       "      <td>1.890016e+08</td>\n",
       "      <td>4.475050e+07</td>\n",
       "      <td>1.037553e+08</td>\n",
       "      <td>8.940000e+05</td>\n",
       "      <td>20.953145</td>\n",
       "      <td>NJ</td>\n",
       "      <td>4533</td>\n",
       "      <td>False</td>\n",
       "    </tr>\n",
       "  </tbody>\n",
       "</table>\n",
       "</div>"
      ],
      "text/plain": [
       "   Location number  Gross revenue    Fixed cost  Variable cost   Rental cost  \\\n",
       "0                1   5.447389e+08  1.108956e+08   2.793687e+08  4.390560e+06   \n",
       "1                2   3.559730e+08  7.287395e+07   1.937291e+08  7.832400e+05   \n",
       "2                3   3.317718e+08  6.429775e+07   1.848279e+08  1.987522e+06   \n",
       "3                4   2.639843e+08  6.410409e+07   1.432398e+08  1.696920e+06   \n",
       "4                5   1.890016e+08  4.475050e+07   1.037553e+08  8.940000e+05   \n",
       "\n",
       "   Profit margins State  Number of products  Owned  \n",
       "0       27.551553    TX                4452  False  \n",
       "1       24.885798    TX                4502  False  \n",
       "2       24.311487    IL                4620   True  \n",
       "3       20.813164    GA                4481  False  \n",
       "4       20.953145    NJ                4533  False  "
      ]
     },
     "execution_count": 21,
     "metadata": {},
     "output_type": "execute_result"
    }
   ],
   "source": [
    "# Add in state, number of products and ownership status to our augmented dataset\n",
    "total_data = new_df.merge(\n",
    "    data[['Location number', 'State', 'Number of products', 'Owned']].drop_duplicates(subset='Location number'),\n",
    "    how='inner',\n",
    "    left_on='Location number',\n",
    "    right_on='Location number'\n",
    ")\n",
    "\n",
    "total_data.head()"
   ]
  },
  {
   "cell_type": "markdown",
   "metadata": {},
   "source": [
    "Now, with our augmented dataset that includes annual profit margins we can take a closer look at the best performing locations when considering annual profit margins as our metric."
   ]
  },
  {
   "cell_type": "code",
   "execution_count": 22,
   "metadata": {},
   "outputs": [
    {
     "data": {
      "text/html": [
       "<div>\n",
       "<style scoped>\n",
       "    .dataframe tbody tr th:only-of-type {\n",
       "        vertical-align: middle;\n",
       "    }\n",
       "\n",
       "    .dataframe tbody tr th {\n",
       "        vertical-align: top;\n",
       "    }\n",
       "\n",
       "    .dataframe thead th {\n",
       "        text-align: right;\n",
       "    }\n",
       "</style>\n",
       "<table border=\"1\" class=\"dataframe\">\n",
       "  <thead>\n",
       "    <tr style=\"text-align: right;\">\n",
       "      <th></th>\n",
       "      <th>Location number</th>\n",
       "      <th>Gross revenue</th>\n",
       "      <th>Fixed cost</th>\n",
       "      <th>Variable cost</th>\n",
       "      <th>Rental cost</th>\n",
       "      <th>Profit margins</th>\n",
       "      <th>State</th>\n",
       "      <th>Number of products</th>\n",
       "      <th>Owned</th>\n",
       "    </tr>\n",
       "  </thead>\n",
       "  <tbody>\n",
       "    <tr>\n",
       "      <td>197</td>\n",
       "      <td>198</td>\n",
       "      <td>2.699811e+08</td>\n",
       "      <td>5.340702e+07</td>\n",
       "      <td>1.058644e+08</td>\n",
       "      <td>2.171040e+06</td>\n",
       "      <td>40.202291</td>\n",
       "      <td>WA</td>\n",
       "      <td>4694</td>\n",
       "      <td>False</td>\n",
       "    </tr>\n",
       "    <tr>\n",
       "      <td>232</td>\n",
       "      <td>233</td>\n",
       "      <td>5.602164e+08</td>\n",
       "      <td>9.715260e+07</td>\n",
       "      <td>2.573850e+08</td>\n",
       "      <td>6.240000e+04</td>\n",
       "      <td>36.703036</td>\n",
       "      <td>TX</td>\n",
       "      <td>4778</td>\n",
       "      <td>False</td>\n",
       "    </tr>\n",
       "    <tr>\n",
       "      <td>117</td>\n",
       "      <td>118</td>\n",
       "      <td>9.660039e+08</td>\n",
       "      <td>1.499075e+08</td>\n",
       "      <td>4.630773e+08</td>\n",
       "      <td>3.715680e+06</td>\n",
       "      <td>36.159635</td>\n",
       "      <td>TX</td>\n",
       "      <td>4726</td>\n",
       "      <td>False</td>\n",
       "    </tr>\n",
       "    <tr>\n",
       "      <td>8</td>\n",
       "      <td>9</td>\n",
       "      <td>8.129180e+08</td>\n",
       "      <td>1.403155e+08</td>\n",
       "      <td>3.780220e+08</td>\n",
       "      <td>1.987522e+06</td>\n",
       "      <td>35.992930</td>\n",
       "      <td>CA</td>\n",
       "      <td>4789</td>\n",
       "      <td>True</td>\n",
       "    </tr>\n",
       "    <tr>\n",
       "      <td>270</td>\n",
       "      <td>271</td>\n",
       "      <td>2.665627e+08</td>\n",
       "      <td>5.226988e+07</td>\n",
       "      <td>1.197077e+08</td>\n",
       "      <td>1.114440e+06</td>\n",
       "      <td>35.065163</td>\n",
       "      <td>TX</td>\n",
       "      <td>4637</td>\n",
       "      <td>False</td>\n",
       "    </tr>\n",
       "    <tr>\n",
       "      <td>51</td>\n",
       "      <td>52</td>\n",
       "      <td>5.168777e+08</td>\n",
       "      <td>9.143620e+07</td>\n",
       "      <td>2.449903e+08</td>\n",
       "      <td>8.316000e+05</td>\n",
       "      <td>34.750892</td>\n",
       "      <td>TX</td>\n",
       "      <td>4736</td>\n",
       "      <td>False</td>\n",
       "    </tr>\n",
       "    <tr>\n",
       "      <td>299</td>\n",
       "      <td>300</td>\n",
       "      <td>1.088825e+09</td>\n",
       "      <td>1.706193e+08</td>\n",
       "      <td>5.395776e+08</td>\n",
       "      <td>1.987522e+06</td>\n",
       "      <td>34.591482</td>\n",
       "      <td>TX</td>\n",
       "      <td>4736</td>\n",
       "      <td>True</td>\n",
       "    </tr>\n",
       "    <tr>\n",
       "      <td>243</td>\n",
       "      <td>244</td>\n",
       "      <td>4.938414e+08</td>\n",
       "      <td>8.836337e+07</td>\n",
       "      <td>2.337480e+08</td>\n",
       "      <td>1.004040e+06</td>\n",
       "      <td>34.571013</td>\n",
       "      <td>CA</td>\n",
       "      <td>4747</td>\n",
       "      <td>False</td>\n",
       "    </tr>\n",
       "    <tr>\n",
       "      <td>80</td>\n",
       "      <td>81</td>\n",
       "      <td>5.435426e+08</td>\n",
       "      <td>8.464220e+07</td>\n",
       "      <td>2.690534e+08</td>\n",
       "      <td>1.987522e+06</td>\n",
       "      <td>34.562044</td>\n",
       "      <td>TX</td>\n",
       "      <td>4767</td>\n",
       "      <td>True</td>\n",
       "    </tr>\n",
       "    <tr>\n",
       "      <td>199</td>\n",
       "      <td>200</td>\n",
       "      <td>3.705961e+08</td>\n",
       "      <td>6.226669e+07</td>\n",
       "      <td>1.791521e+08</td>\n",
       "      <td>2.350080e+06</td>\n",
       "      <td>34.222492</td>\n",
       "      <td>CA</td>\n",
       "      <td>4654</td>\n",
       "      <td>False</td>\n",
       "    </tr>\n",
       "  </tbody>\n",
       "</table>\n",
       "</div>"
      ],
      "text/plain": [
       "     Location number  Gross revenue    Fixed cost  Variable cost  \\\n",
       "197              198   2.699811e+08  5.340702e+07   1.058644e+08   \n",
       "232              233   5.602164e+08  9.715260e+07   2.573850e+08   \n",
       "117              118   9.660039e+08  1.499075e+08   4.630773e+08   \n",
       "8                  9   8.129180e+08  1.403155e+08   3.780220e+08   \n",
       "270              271   2.665627e+08  5.226988e+07   1.197077e+08   \n",
       "51                52   5.168777e+08  9.143620e+07   2.449903e+08   \n",
       "299              300   1.088825e+09  1.706193e+08   5.395776e+08   \n",
       "243              244   4.938414e+08  8.836337e+07   2.337480e+08   \n",
       "80                81   5.435426e+08  8.464220e+07   2.690534e+08   \n",
       "199              200   3.705961e+08  6.226669e+07   1.791521e+08   \n",
       "\n",
       "      Rental cost  Profit margins State  Number of products  Owned  \n",
       "197  2.171040e+06       40.202291    WA                4694  False  \n",
       "232  6.240000e+04       36.703036    TX                4778  False  \n",
       "117  3.715680e+06       36.159635    TX                4726  False  \n",
       "8    1.987522e+06       35.992930    CA                4789   True  \n",
       "270  1.114440e+06       35.065163    TX                4637  False  \n",
       "51   8.316000e+05       34.750892    TX                4736  False  \n",
       "299  1.987522e+06       34.591482    TX                4736   True  \n",
       "243  1.004040e+06       34.571013    CA                4747  False  \n",
       "80   1.987522e+06       34.562044    TX                4767   True  \n",
       "199  2.350080e+06       34.222492    CA                4654  False  "
      ]
     },
     "execution_count": 22,
     "metadata": {},
     "output_type": "execute_result"
    }
   ],
   "source": [
    "total_data.sort_values(by='Profit margins', ascending=False).head(10)"
   ]
  },
  {
   "cell_type": "markdown",
   "metadata": {},
   "source": [
    "Correlation values close to -1 or 1 for any two variables indicates we should take a closer look at those two variables. In this case, we are interested in relationships between features other than profit margins correlated with profit margins."
   ]
  },
  {
   "cell_type": "code",
   "execution_count": 23,
   "metadata": {},
   "outputs": [
    {
     "data": {
      "text/html": [
       "<div>\n",
       "<style scoped>\n",
       "    .dataframe tbody tr th:only-of-type {\n",
       "        vertical-align: middle;\n",
       "    }\n",
       "\n",
       "    .dataframe tbody tr th {\n",
       "        vertical-align: top;\n",
       "    }\n",
       "\n",
       "    .dataframe thead th {\n",
       "        text-align: right;\n",
       "    }\n",
       "</style>\n",
       "<table border=\"1\" class=\"dataframe\">\n",
       "  <thead>\n",
       "    <tr style=\"text-align: right;\">\n",
       "      <th></th>\n",
       "      <th>Profit margins</th>\n",
       "    </tr>\n",
       "  </thead>\n",
       "  <tbody>\n",
       "    <tr>\n",
       "      <td>Profit margins</td>\n",
       "      <td>1.000000</td>\n",
       "    </tr>\n",
       "    <tr>\n",
       "      <td>Number of products</td>\n",
       "      <td>0.802814</td>\n",
       "    </tr>\n",
       "    <tr>\n",
       "      <td>Gross revenue</td>\n",
       "      <td>0.483617</td>\n",
       "    </tr>\n",
       "    <tr>\n",
       "      <td>Variable cost</td>\n",
       "      <td>0.398386</td>\n",
       "    </tr>\n",
       "    <tr>\n",
       "      <td>Fixed cost</td>\n",
       "      <td>0.310592</td>\n",
       "    </tr>\n",
       "    <tr>\n",
       "      <td>Owned</td>\n",
       "      <td>0.185413</td>\n",
       "    </tr>\n",
       "    <tr>\n",
       "      <td>Rental cost</td>\n",
       "      <td>0.179626</td>\n",
       "    </tr>\n",
       "  </tbody>\n",
       "</table>\n",
       "</div>"
      ],
      "text/plain": [
       "                    Profit margins\n",
       "Profit margins            1.000000\n",
       "Number of products        0.802814\n",
       "Gross revenue             0.483617\n",
       "Variable cost             0.398386\n",
       "Fixed cost                0.310592\n",
       "Owned                     0.185413\n",
       "Rental cost               0.179626"
      ]
     },
     "execution_count": 23,
     "metadata": {},
     "output_type": "execute_result"
    }
   ],
   "source": [
    "cols = ['Gross revenue', \n",
    "         'Fixed cost', \n",
    "         'Variable cost', \n",
    "         'Rental cost', \n",
    "         'Profit margins', \n",
    "         'Owned',\n",
    "         'Number of products']\n",
    "total_data[cols].corr().sort_values(by='Profit margins', ascending=False)[['Profit margins']]"
   ]
  },
  {
   "cell_type": "markdown",
   "metadata": {},
   "source": [
    "We can see that `Number of products` and `Profit margins` has a high correlation value of $0.802814$."
   ]
  },
  {
   "cell_type": "markdown",
   "metadata": {},
   "source": [
    "The scatterplot between the two variables also shows a positive trend, which indicates this is an predictor worth looking into. Let's verify this relationship with a linear regression analysis."
   ]
  },
  {
   "cell_type": "code",
   "execution_count": 24,
   "metadata": {},
   "outputs": [],
   "source": [
    "X = total_data[['Number of products']]\n",
    "y = total_data[['Profit margins']]\n",
    "X_train, X_test, Y_train, Y_test = train_test_split(X, y)"
   ]
  },
  {
   "cell_type": "code",
   "execution_count": 25,
   "metadata": {},
   "outputs": [
    {
     "data": {
      "text/plain": [
       "LinearRegression(copy_X=True, fit_intercept=True, n_jobs=None, normalize=False)"
      ]
     },
     "execution_count": 25,
     "metadata": {},
     "output_type": "execute_result"
    }
   ],
   "source": [
    "linreg = LinearRegression()\n",
    "linreg.fit(X_train, Y_train)"
   ]
  },
  {
   "cell_type": "code",
   "execution_count": 26,
   "metadata": {},
   "outputs": [
    {
     "data": {
      "image/png": "[encoded data removed]",
      "text/plain": [
       "<Figure size 432x288 with 1 Axes>"
      ]
     },
     "metadata": {
      "needs_background": "light"
     },
     "output_type": "display_data"
    }
   ],
   "source": [
    "def plot_linreg(model, X, Y, title=''):    \n",
    "    linreg_train_df = X.join(Y)\n",
    "    r_sq = round(linreg.score(X, Y), 2)\n",
    "\n",
    "    ax = linreg_train_df.plot.scatter(x='Number of products', y='Profit margins', color='steelblue')\n",
    "    ax.plot(X, model.predict(X), color='green')\n",
    "    ax.set_title(f'Profit margins vs Number of products ({title}), r^2={r_sq}')\n",
    "    \n",
    "    \n",
    "plot_linreg(linreg, X_train, Y_train, title='Training data')"
   ]
  },
  {
   "cell_type": "code",
   "execution_count": 27,
   "metadata": {},
   "outputs": [
    {
     "data": {
      "image/png": "[encoded data removed]",
      "text/plain": [
       "<Figure size 432x288 with 1 Axes>"
      ]
     },
     "metadata": {
      "needs_background": "light"
     },
     "output_type": "display_data"
    }
   ],
   "source": [
    "plot_linreg(linreg, X_test, Y_test, title='Testing data')"
   ]
  },
  {
   "cell_type": "markdown",
   "metadata": {},
   "source": [
    "Stores that had higher number of products had in turn higher profit margins. Increasing product variety and availability could boost revenue and lead to higher profit margins."
   ]
  },
  {
   "cell_type": "markdown",
   "metadata": {},
   "source": [
    "When working with companies that have multiple locations, sometimes underlying geographical features could be a reason why one location sees higher profit margins annually over another."
   ]
  },
  {
   "cell_type": "code",
   "execution_count": 28,
   "metadata": {},
   "outputs": [
    {
     "name": "stdout",
     "output_type": "stream",
     "text": [
      "{'IL', 'GA', 'CA', 'CO', 'TX', 'WA', 'NJ'}\n"
     ]
    }
   ],
   "source": [
    "print(set(total_data['State']))"
   ]
  },
  {
   "cell_type": "markdown",
   "metadata": {},
   "source": [
    "Our dataset includes info about stores in all [regions](https://en.wikipedia.org/wiki/List_of_regions_of_the_United_States) of the U.S.:\n",
    "\n",
    "* West: Colorado, Washington\n",
    "* Midwest: Illinois\n",
    "* South: Texas, Georgia\n",
    "* Northeast: New Jersey"
   ]
  },
  {
   "cell_type": "code",
   "execution_count": 29,
   "metadata": {},
   "outputs": [],
   "source": [
    "regions = {\n",
    "    'CO': 'West',\n",
    "    'WA': 'West',\n",
    "    'IL': 'Midwest',\n",
    "    'TX': 'South',\n",
    "    'CA': 'West',\n",
    "    'NJ': 'Northeast',\n",
    "    'GA': 'South'\n",
    "}"
   ]
  },
  {
   "cell_type": "markdown",
   "metadata": {},
   "source": [
    "Let's label our store locations by region."
   ]
  },
  {
   "cell_type": "code",
   "execution_count": 30,
   "metadata": {},
   "outputs": [
    {
     "data": {
      "text/html": [
       "<div>\n",
       "<style scoped>\n",
       "    .dataframe tbody tr th:only-of-type {\n",
       "        vertical-align: middle;\n",
       "    }\n",
       "\n",
       "    .dataframe tbody tr th {\n",
       "        vertical-align: top;\n",
       "    }\n",
       "\n",
       "    .dataframe thead th {\n",
       "        text-align: right;\n",
       "    }\n",
       "</style>\n",
       "<table border=\"1\" class=\"dataframe\">\n",
       "  <thead>\n",
       "    <tr style=\"text-align: right;\">\n",
       "      <th></th>\n",
       "      <th>Location number</th>\n",
       "      <th>Gross revenue</th>\n",
       "      <th>Fixed cost</th>\n",
       "      <th>Variable cost</th>\n",
       "      <th>Rental cost</th>\n",
       "      <th>Profit margins</th>\n",
       "      <th>State</th>\n",
       "      <th>Number of products</th>\n",
       "      <th>Owned</th>\n",
       "      <th>Region</th>\n",
       "    </tr>\n",
       "  </thead>\n",
       "  <tbody>\n",
       "    <tr>\n",
       "      <td>0</td>\n",
       "      <td>1</td>\n",
       "      <td>5.447389e+08</td>\n",
       "      <td>1.108956e+08</td>\n",
       "      <td>2.793687e+08</td>\n",
       "      <td>4.390560e+06</td>\n",
       "      <td>27.551553</td>\n",
       "      <td>TX</td>\n",
       "      <td>4452</td>\n",
       "      <td>False</td>\n",
       "      <td>South</td>\n",
       "    </tr>\n",
       "    <tr>\n",
       "      <td>1</td>\n",
       "      <td>2</td>\n",
       "      <td>3.559730e+08</td>\n",
       "      <td>7.287395e+07</td>\n",
       "      <td>1.937291e+08</td>\n",
       "      <td>7.832400e+05</td>\n",
       "      <td>24.885798</td>\n",
       "      <td>TX</td>\n",
       "      <td>4502</td>\n",
       "      <td>False</td>\n",
       "      <td>South</td>\n",
       "    </tr>\n",
       "    <tr>\n",
       "      <td>2</td>\n",
       "      <td>3</td>\n",
       "      <td>3.317718e+08</td>\n",
       "      <td>6.429775e+07</td>\n",
       "      <td>1.848279e+08</td>\n",
       "      <td>1.987522e+06</td>\n",
       "      <td>24.311487</td>\n",
       "      <td>IL</td>\n",
       "      <td>4620</td>\n",
       "      <td>True</td>\n",
       "      <td>Midwest</td>\n",
       "    </tr>\n",
       "    <tr>\n",
       "      <td>3</td>\n",
       "      <td>4</td>\n",
       "      <td>2.639843e+08</td>\n",
       "      <td>6.410409e+07</td>\n",
       "      <td>1.432398e+08</td>\n",
       "      <td>1.696920e+06</td>\n",
       "      <td>20.813164</td>\n",
       "      <td>GA</td>\n",
       "      <td>4481</td>\n",
       "      <td>False</td>\n",
       "      <td>South</td>\n",
       "    </tr>\n",
       "    <tr>\n",
       "      <td>4</td>\n",
       "      <td>5</td>\n",
       "      <td>1.890016e+08</td>\n",
       "      <td>4.475050e+07</td>\n",
       "      <td>1.037553e+08</td>\n",
       "      <td>8.940000e+05</td>\n",
       "      <td>20.953145</td>\n",
       "      <td>NJ</td>\n",
       "      <td>4533</td>\n",
       "      <td>False</td>\n",
       "      <td>Northeast</td>\n",
       "    </tr>\n",
       "  </tbody>\n",
       "</table>\n",
       "</div>"
      ],
      "text/plain": [
       "   Location number  Gross revenue    Fixed cost  Variable cost   Rental cost  \\\n",
       "0                1   5.447389e+08  1.108956e+08   2.793687e+08  4.390560e+06   \n",
       "1                2   3.559730e+08  7.287395e+07   1.937291e+08  7.832400e+05   \n",
       "2                3   3.317718e+08  6.429775e+07   1.848279e+08  1.987522e+06   \n",
       "3                4   2.639843e+08  6.410409e+07   1.432398e+08  1.696920e+06   \n",
       "4                5   1.890016e+08  4.475050e+07   1.037553e+08  8.940000e+05   \n",
       "\n",
       "   Profit margins State  Number of products  Owned     Region  \n",
       "0       27.551553    TX                4452  False      South  \n",
       "1       24.885798    TX                4502  False      South  \n",
       "2       24.311487    IL                4620   True    Midwest  \n",
       "3       20.813164    GA                4481  False      South  \n",
       "4       20.953145    NJ                4533  False  Northeast  "
      ]
     },
     "execution_count": 30,
     "metadata": {},
     "output_type": "execute_result"
    }
   ],
   "source": [
    "total_data['Region'] = total_data['State'].map(regions)\n",
    "total_data.head()"
   ]
  },
  {
   "cell_type": "markdown",
   "metadata": {},
   "source": [
    "Now, let's take a closer look at the data for each region."
   ]
  },
  {
   "cell_type": "code",
   "execution_count": 31,
   "metadata": {},
   "outputs": [
    {
     "data": {
      "text/html": [
       "<div>\n",
       "<style scoped>\n",
       "    .dataframe tbody tr th:only-of-type {\n",
       "        vertical-align: middle;\n",
       "    }\n",
       "\n",
       "    .dataframe tbody tr th {\n",
       "        vertical-align: top;\n",
       "    }\n",
       "\n",
       "    .dataframe thead tr th {\n",
       "        text-align: left;\n",
       "    }\n",
       "\n",
       "    .dataframe thead tr:last-of-type th {\n",
       "        text-align: right;\n",
       "    }\n",
       "</style>\n",
       "<table border=\"1\" class=\"dataframe\">\n",
       "  <thead>\n",
       "    <tr>\n",
       "      <th></th>\n",
       "      <th colspan=\"8\" halign=\"left\">Profit margins</th>\n",
       "    </tr>\n",
       "    <tr>\n",
       "      <th></th>\n",
       "      <th>count</th>\n",
       "      <th>mean</th>\n",
       "      <th>std</th>\n",
       "      <th>min</th>\n",
       "      <th>25%</th>\n",
       "      <th>50%</th>\n",
       "      <th>75%</th>\n",
       "      <th>max</th>\n",
       "    </tr>\n",
       "    <tr>\n",
       "      <th>Region</th>\n",
       "      <th></th>\n",
       "      <th></th>\n",
       "      <th></th>\n",
       "      <th></th>\n",
       "      <th></th>\n",
       "      <th></th>\n",
       "      <th></th>\n",
       "      <th></th>\n",
       "    </tr>\n",
       "  </thead>\n",
       "  <tbody>\n",
       "    <tr>\n",
       "      <td>Midwest</td>\n",
       "      <td>54.0</td>\n",
       "      <td>25.015216</td>\n",
       "      <td>5.288255</td>\n",
       "      <td>11.403469</td>\n",
       "      <td>22.448744</td>\n",
       "      <td>26.388885</td>\n",
       "      <td>28.586611</td>\n",
       "      <td>33.259537</td>\n",
       "    </tr>\n",
       "    <tr>\n",
       "      <td>Northeast</td>\n",
       "      <td>32.0</td>\n",
       "      <td>19.467070</td>\n",
       "      <td>5.479577</td>\n",
       "      <td>6.852616</td>\n",
       "      <td>16.931469</td>\n",
       "      <td>19.894504</td>\n",
       "      <td>23.813142</td>\n",
       "      <td>29.196510</td>\n",
       "    </tr>\n",
       "    <tr>\n",
       "      <td>South</td>\n",
       "      <td>155.0</td>\n",
       "      <td>25.305733</td>\n",
       "      <td>6.109641</td>\n",
       "      <td>8.821963</td>\n",
       "      <td>21.915864</td>\n",
       "      <td>26.659936</td>\n",
       "      <td>29.677847</td>\n",
       "      <td>36.703036</td>\n",
       "    </tr>\n",
       "    <tr>\n",
       "      <td>West</td>\n",
       "      <td>92.0</td>\n",
       "      <td>25.709383</td>\n",
       "      <td>6.341897</td>\n",
       "      <td>-1.084224</td>\n",
       "      <td>22.512487</td>\n",
       "      <td>26.420305</td>\n",
       "      <td>29.725345</td>\n",
       "      <td>40.202291</td>\n",
       "    </tr>\n",
       "  </tbody>\n",
       "</table>\n",
       "</div>"
      ],
      "text/plain": [
       "          Profit margins                                             \\\n",
       "                   count       mean       std        min        25%   \n",
       "Region                                                                \n",
       "Midwest             54.0  25.015216  5.288255  11.403469  22.448744   \n",
       "Northeast           32.0  19.467070  5.479577   6.852616  16.931469   \n",
       "South              155.0  25.305733  6.109641   8.821963  21.915864   \n",
       "West                92.0  25.709383  6.341897  -1.084224  22.512487   \n",
       "\n",
       "                                            \n",
       "                 50%        75%        max  \n",
       "Region                                      \n",
       "Midwest    26.388885  28.586611  33.259537  \n",
       "Northeast  19.894504  23.813142  29.196510  \n",
       "South      26.659936  29.677847  36.703036  \n",
       "West       26.420305  29.725345  40.202291  "
      ]
     },
     "execution_count": 31,
     "metadata": {},
     "output_type": "execute_result"
    }
   ],
   "source": [
    "# Summary statistics\n",
    "stats = total_data[['Region', 'Profit margins']].groupby(by='Region').describe()\n",
    "stats"
   ]
  },
  {
   "cell_type": "code",
   "execution_count": 32,
   "metadata": {},
   "outputs": [
    {
     "data": {
      "text/html": [
       "<div>\n",
       "<style scoped>\n",
       "    .dataframe tbody tr th:only-of-type {\n",
       "        vertical-align: middle;\n",
       "    }\n",
       "\n",
       "    .dataframe tbody tr th {\n",
       "        vertical-align: top;\n",
       "    }\n",
       "\n",
       "    .dataframe thead th {\n",
       "        text-align: right;\n",
       "    }\n",
       "</style>\n",
       "<table border=\"1\" class=\"dataframe\">\n",
       "  <thead>\n",
       "    <tr style=\"text-align: right;\">\n",
       "      <th>Profit margin bucket</th>\n",
       "      <th>(-10, 0]</th>\n",
       "      <th>(0, 10]</th>\n",
       "      <th>(10, 20]</th>\n",
       "      <th>(20, 30]</th>\n",
       "      <th>(30, 40]</th>\n",
       "      <th>(40, 50]</th>\n",
       "    </tr>\n",
       "    <tr>\n",
       "      <th>Region</th>\n",
       "      <th></th>\n",
       "      <th></th>\n",
       "      <th></th>\n",
       "      <th></th>\n",
       "      <th></th>\n",
       "      <th></th>\n",
       "    </tr>\n",
       "  </thead>\n",
       "  <tbody>\n",
       "    <tr>\n",
       "      <td>Midwest</td>\n",
       "      <td>0.0</td>\n",
       "      <td>0.0</td>\n",
       "      <td>9.0</td>\n",
       "      <td>36.0</td>\n",
       "      <td>9.0</td>\n",
       "      <td>0.0</td>\n",
       "    </tr>\n",
       "    <tr>\n",
       "      <td>Northeast</td>\n",
       "      <td>0.0</td>\n",
       "      <td>3.0</td>\n",
       "      <td>13.0</td>\n",
       "      <td>16.0</td>\n",
       "      <td>0.0</td>\n",
       "      <td>0.0</td>\n",
       "    </tr>\n",
       "    <tr>\n",
       "      <td>South</td>\n",
       "      <td>0.0</td>\n",
       "      <td>2.0</td>\n",
       "      <td>27.0</td>\n",
       "      <td>94.0</td>\n",
       "      <td>32.0</td>\n",
       "      <td>0.0</td>\n",
       "    </tr>\n",
       "    <tr>\n",
       "      <td>West</td>\n",
       "      <td>1.0</td>\n",
       "      <td>1.0</td>\n",
       "      <td>13.0</td>\n",
       "      <td>56.0</td>\n",
       "      <td>20.0</td>\n",
       "      <td>1.0</td>\n",
       "    </tr>\n",
       "  </tbody>\n",
       "</table>\n",
       "</div>"
      ],
      "text/plain": [
       "Profit margin bucket  (-10, 0]  (0, 10]  (10, 20]  (20, 30]  (30, 40]  \\\n",
       "Region                                                                  \n",
       "Midwest                    0.0      0.0       9.0      36.0       9.0   \n",
       "Northeast                  0.0      3.0      13.0      16.0       0.0   \n",
       "South                      0.0      2.0      27.0      94.0      32.0   \n",
       "West                       1.0      1.0      13.0      56.0      20.0   \n",
       "\n",
       "Profit margin bucket  (40, 50]  \n",
       "Region                          \n",
       "Midwest                    0.0  \n",
       "Northeast                  0.0  \n",
       "South                      0.0  \n",
       "West                       1.0  "
      ]
     },
     "execution_count": 32,
     "metadata": {},
     "output_type": "execute_result"
    }
   ],
   "source": [
    "bucketed = total_data.join(pd.cut(total_data['Profit margins'], [-10, 0, 10, 20, 30, 40, 50]).rename('Profit margin bucket'))\n",
    "bucketed.pivot_table(index='Region', columns='Profit margin bucket', aggfunc='size').fillna(0)"
   ]
  },
  {
   "cell_type": "code",
   "execution_count": 33,
   "metadata": {},
   "outputs": [
    {
     "data": {
      "text/plain": [
       "<matplotlib.axes._subplots.AxesSubplot at 0x11fa24a20>"
      ]
     },
     "execution_count": 33,
     "metadata": {},
     "output_type": "execute_result"
    },
    {
     "data": {
      "image/png": "[encoded data removed]",
      "text/plain": [
       "<Figure size 720x720 with 1 Axes>"
      ]
     },
     "metadata": {
      "needs_background": "light"
     },
     "output_type": "display_data"
    }
   ],
   "source": [
    "total_data[['Region', 'Profit margins']].boxplot(by='Region', figsize=(10,10))"
   ]
  },
  {
   "cell_type": "markdown",
   "metadata": {},
   "source": [
    "We can see from this chart that the Northeast region underperformed compared to the Midwest, South and Western regions of stores. This could be for a number of reasons, and with some additional data perhaps on marketing strategies or audiences we can make more informed inferences. For now, it is clear though that geography and number of products of a store plays a role in annual profit margins."
   ]
  }
 ],
 "metadata": {
  "kernelspec": {
   "display_name": "retail-analysis",
   "language": "python",
   "name": "retail-analysis"
  },
  "language_info": {
   "codemirror_mode": {
    "name": "ipython",
    "version": 3
   },
   "file_extension": ".py",
   "mimetype": "text/x-python",
   "name": "python",
   "nbconvert_exporter": "python",
   "pygments_lexer": "ipython3",
   "version": "3.7.1"
  }
 },
 "nbformat": 4,
 "nbformat_minor": 2
}
